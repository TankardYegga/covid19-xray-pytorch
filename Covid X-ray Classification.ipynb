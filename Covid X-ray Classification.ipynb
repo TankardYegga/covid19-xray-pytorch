{
 "cells": [
  {
   "cell_type": "code",
   "execution_count": 2,
   "metadata": {
    "pycharm": {
     "is_executing": false
    }
   },
   "outputs": [
    {
     "name": "stderr",
     "text": [
      "Matplotlib is building the font cache; this may take a moment.\n"
     ],
     "output_type": "stream"
    }
   ],
   "source": [
    "import copy\n",
    "from os import path\n",
    "import numpy as np\n",
    "import pandas as pd\n",
    "from tqdm.notebook import tqdm\n",
    "from math import ceil\n",
    "from sklearn.model_selection import train_test_split\n",
    "from PIL import Image\n",
    "import matplotlib.pyplot as plt\n",
    "import torch\n",
    "import torchvision\n",
    "import torchvision.transforms as transforms\n",
    "from torch.utils.data import DataLoader\n",
    "from torch.utils.data import Dataset\n",
    "import torchvision.models as models\n",
    "%matplotlib inline"
   ]
  },
  {
   "cell_type": "code",
   "execution_count": 3,
   "metadata": {
    "pycharm": {
     "is_executing": false
    }
   },
   "outputs": [],
   "source": [
    "data = pd.read_csv(\"labels.csv\")"
   ]
  },
  {
   "cell_type": "code",
   "execution_count": 4,
   "metadata": {
    "pycharm": {
     "is_executing": false
    }
   },
   "outputs": [],
   "source": [
    "X, Y = np.asarray(data.x), np.asarray(data.y)"
   ]
  },
  {
   "cell_type": "code",
   "execution_count": 5,
   "metadata": {
    "pycharm": {
     "is_executing": false
    }
   },
   "outputs": [],
   "source": [
    "X_train, X_dev, Y_train, Y_dev = train_test_split(\n",
    "    X, Y, train_size=0.8, random_state=19, shuffle=True\n",
    ")"
   ]
  },
  {
   "cell_type": "code",
   "execution_count": 6,
   "metadata": {
    "pycharm": {
     "is_executing": false
    }
   },
   "outputs": [
    {
     "name": "stdout",
     "text": [
      "No of train samples: 224\nNo of dev samples: 56\n"
     ],
     "output_type": "stream"
    }
   ],
   "source": [
    "print(\"No of train samples: {}\".format(len(X_train)))\n",
    "print(\"No of dev samples: {}\".format(len(X_dev)))"
   ]
  },
  {
   "cell_type": "code",
   "execution_count": 7,
   "metadata": {
    "pycharm": {
     "is_executing": false
    }
   },
   "outputs": [],
   "source": [
    "def plot_classes(Y_train, Y_dev):\n",
    "    # (non corona = 0, corona = 1)\n",
    "    train_uniques, train_uniques_count = np.unique(Y_train, return_counts=True)\n",
    "    dev_uniques, dev_uniques_count = np.unique(Y_dev, return_counts=True)\n",
    "\n",
    "    train_uniques = train_uniques.astype(np.object)\n",
    "    train_uniques[train_uniques == 0] = \"Non Corona\"\n",
    "    train_uniques[train_uniques == 1] = \"Corona\"\n",
    "\n",
    "    dev_uniques = dev_uniques.astype(np.object)\n",
    "    dev_uniques[dev_uniques == 0] = \"Non Corona\"\n",
    "    dev_uniques[dev_uniques == 1] = \"Corona\"\n",
    "\n",
    "    plt.figure(figsize=(9, 3))\n",
    "    plt.subplot(121)\n",
    "    bar1 = plt.bar(train_uniques, train_uniques_count)\n",
    "    bar1[0].set_color(\"g\")\n",
    "    bar1[1].set_color(\"r\")\n",
    "    plt.xlabel(\"Category\")\n",
    "    plt.ylabel(\"No of pictures\")\n",
    "    plt.title(\"Train set\")\n",
    "    plt.subplot(122)\n",
    "    bar2 = plt.bar(dev_uniques, dev_uniques_count)\n",
    "    bar2[0].set_color(\"g\")\n",
    "    bar2[1].set_color(\"r\")\n",
    "    plt.xlabel(\"Category\")\n",
    "    plt.ylabel(\"No of pictures\")\n",
    "    plt.title(\"Dev test\")\n",
    "    plt.show()"
   ]
  },
  {
   "cell_type": "code",
   "execution_count": null,
   "metadata": {
    "pycharm": {
     "is_executing": true
    }
   },
   "outputs": [],
   "source": [
    "plot_classes(Y_train, Y_dev)"
   ]
  },
  {
   "cell_type": "code",
   "execution_count": null,
   "metadata": {
    "pycharm": {
     "is_executing": true
    }
   },
   "outputs": [],
   "source": [
    "class CovidDataset(object):\n",
    "    def __init__(self, X, Y, transforms=None):\n",
    "        self.X = X\n",
    "        self.Y = Y\n",
    "        self.transforms = transforms\n",
    "\n",
    "    def __len__(self):\n",
    "        return len(self.X)\n",
    "\n",
    "    def __getitem__(self, idx):\n",
    "        img_path = self.X[idx]\n",
    "        img_label = self.Y[idx]\n",
    "\n",
    "        img = Image.open(path.join(\"data/covid_data/\", img_path)).convert(\"RGB\")\n",
    "\n",
    "        if self.transforms:\n",
    "            img = self.transforms(img)\n",
    "\n",
    "        # print(img_path)\n",
    "        # print(img.shape)\n",
    "        # print(img_label)\n",
    "        return img, img_label"
   ]
  },
  {
   "cell_type": "code",
   "execution_count": null,
   "metadata": {
    "pycharm": {
     "is_executing": true
    }
   },
   "outputs": [],
   "source": [
    "def get_transformations(for_train=True, resize=(128, 128)):\n",
    "    transformations = {\n",
    "        \"train_transforms\": transforms.Compose(\n",
    "            [\n",
    "                transforms.RandomRotation(degrees=(-5, 5)),\n",
    "                transforms.RandomAffine(degrees=0, shear=(-0.05, 0.05)),\n",
    "                transforms.RandomHorizontalFlip(0.5),\n",
    "                transforms.Resize(resize),\n",
    "                transforms.ToTensor(),\n",
    "            ]\n",
    "        ),\n",
    "        \"test_transforms\": transforms.Compose(\n",
    "            [transforms.Resize(resize), transforms.ToTensor()]\n",
    "        ),\n",
    "    }\n",
    "    if for_train:\n",
    "        return transformations[\"train_transforms\"]\n",
    "    else:\n",
    "        return transformations[\"test_transforms\"]"
   ]
  },
  {
   "cell_type": "code",
   "execution_count": null,
   "metadata": {
    "pycharm": {
     "is_executing": true
    }
   },
   "outputs": [],
   "source": [
    "def show_images(img_path, transforms=None):\n",
    "    img = Image.open(img_path).convert(\"RGB\")\n",
    "    if transforms:\n",
    "        img1 = transforms(img)\n",
    "        img1 = img1.permute(2, 1, 0)\n",
    "\n",
    "    plt.figure(figsize=(9, 3))\n",
    "    plt.subplot(121)\n",
    "    plt.imshow(img)\n",
    "    plt.title(\"Normal\")\n",
    "    if transforms:\n",
    "        plt.subplot(122)\n",
    "        plt.imshow(img1)\n",
    "        plt.title(\"Transformed\")\n",
    "    plt.show()"
   ]
  },
  {
   "cell_type": "code",
   "execution_count": null,
   "metadata": {
    "pycharm": {
     "is_executing": true
    }
   },
   "outputs": [],
   "source": [
    "show_images(img_path=\"data/covid_data/Corona2_9.jpg\", transforms=None)"
   ]
  },
  {
   "cell_type": "code",
   "execution_count": null,
   "metadata": {
    "pycharm": {
     "is_executing": true
    }
   },
   "outputs": [],
   "source": [
    "show_images(\n",
    "    img_path=\"data/covid_data/Corona2_9.jpg\",\n",
    "    transforms=get_transformations(for_train=True),\n",
    ")"
   ]
  },
  {
   "cell_type": "code",
   "execution_count": null,
   "metadata": {
    "pycharm": {
     "is_executing": true
    }
   },
   "outputs": [],
   "source": [
    "BATCH_SIZE = 8"
   ]
  },
  {
   "cell_type": "code",
   "execution_count": null,
   "metadata": {
    "pycharm": {
     "is_executing": true
    }
   },
   "outputs": [],
   "source": [
    "train_dataset = CovidDataset(X_train, Y_train, get_transformations(for_train=True))\n",
    "dev_dataset = CovidDataset(X_dev, Y_dev, get_transformations(for_train=False))"
   ]
  },
  {
   "cell_type": "code",
   "execution_count": null,
   "metadata": {
    "pycharm": {
     "is_executing": true
    }
   },
   "outputs": [],
   "source": [
    "device = torch.device(\"cuda:0\" if torch.cuda.is_available() else \"cpu\")"
   ]
  },
  {
   "cell_type": "code",
   "execution_count": null,
   "metadata": {
    "pycharm": {
     "is_executing": true
    }
   },
   "outputs": [],
   "source": [
    "def get_mnasnet1_0():\n",
    "    model = models.mnasnet1_0(pretrained=True)\n",
    "    model.classifier = torch.nn.Linear(in_features=1280, out_features=2)\n",
    "    model = model.to(device)\n",
    "    return model"
   ]
  },
  {
   "cell_type": "code",
   "execution_count": null,
   "metadata": {
    "pycharm": {
     "is_executing": true
    }
   },
   "outputs": [],
   "source": [
    "def get_alexnet():\n",
    "    model = models.alexnet(pretrained=True)\n",
    "    model.classifier[6] = torch.nn.Linear(in_features=4096, out_features=2)\n",
    "    model = model.to(device)\n",
    "    return model"
   ]
  },
  {
   "cell_type": "code",
   "execution_count": null,
   "metadata": {
    "pycharm": {
     "is_executing": true
    }
   },
   "outputs": [],
   "source": [
    "model = get_alexnet()"
   ]
  },
  {
   "cell_type": "code",
   "execution_count": null,
   "metadata": {
    "pycharm": {
     "is_executing": true
    }
   },
   "outputs": [],
   "source": [
    "criterion = torch.nn.CrossEntropyLoss()\n",
    "criterion = criterion.to(device)\n",
    "optimizer = torch.optim.Adam(model.parameters(), lr=1e-5)"
   ]
  },
  {
   "cell_type": "code",
   "execution_count": null,
   "metadata": {
    "pycharm": {
     "is_executing": true
    }
   },
   "outputs": [],
   "source": [
    "def train_step(model, inputs, labels, criterion, optimizer):\n",
    "    optimizer.zero_grad()\n",
    "\n",
    "    preds = model(inputs)\n",
    "    loss = criterion(preds, labels)\n",
    "\n",
    "    loss.backward()\n",
    "    optimizer.step()\n",
    "\n",
    "    return preds, loss"
   ]
  },
  {
   "cell_type": "code",
   "execution_count": null,
   "metadata": {
    "pycharm": {
     "is_executing": true
    }
   },
   "outputs": [],
   "source": [
    "def eval_step(model, inputs, labels, criterion):\n",
    "    preds = model(inputs)\n",
    "    loss = criterion(preds, labels)\n",
    "\n",
    "    return preds, loss"
   ]
  },
  {
   "cell_type": "code",
   "execution_count": null,
   "metadata": {
    "pycharm": {
     "is_executing": true
    }
   },
   "outputs": [],
   "source": [
    "def train_epoch(model, train_dataset, criterion, optimizer, batch_size):\n",
    "    train_loader = DataLoader(\n",
    "        dataset=train_dataset, batch_size=batch_size, shuffle=True\n",
    "    )\n",
    "\n",
    "    correct_count = 0\n",
    "    total_loss = 0\n",
    "\n",
    "    model.train()\n",
    "    for imgs, labels in train_loader:\n",
    "        imgs = imgs.to(device)\n",
    "        labels = labels.to(device)\n",
    "\n",
    "        preds, loss = train_step(model, imgs, labels, criterion, optimizer)\n",
    "\n",
    "        preds = torch.argmax(preds, axis=1)\n",
    "        correct_count += (preds == labels).sum().item()\n",
    "        total_loss += loss.item()\n",
    "\n",
    "    return correct_count / len(train_dataset), total_loss / len(train_dataset)"
   ]
  },
  {
   "cell_type": "code",
   "execution_count": null,
   "metadata": {
    "pycharm": {
     "is_executing": true
    }
   },
   "outputs": [],
   "source": [
    "def eval_epoch(model, dev_dataset, criterion, batch_size):\n",
    "    dev_loader = DataLoader(dataset=dev_dataset, batch_size=batch_size, shuffle=True)\n",
    "\n",
    "    correct_count = 0\n",
    "    total_loss = 0\n",
    "\n",
    "    model.eval()\n",
    "    with torch.no_grad():\n",
    "        for imgs, labels in dev_loader:\n",
    "            imgs = imgs.to(device)\n",
    "            labels = labels.to(device)\n",
    "\n",
    "            preds, loss = eval_step(model, imgs, labels, criterion)\n",
    "\n",
    "            preds = torch.argmax(preds, axis=1)\n",
    "            correct_count += (preds == labels).sum().item()\n",
    "            total_loss = loss.item()\n",
    "\n",
    "    return correct_count / len(dev_dataset), total_loss / len(dev_dataset)"
   ]
  },
  {
   "cell_type": "code",
   "execution_count": null,
   "metadata": {
    "pycharm": {
     "is_executing": true
    }
   },
   "outputs": [],
   "source": [
    "def train(model, train_dataset, dev_dataset, criterion, optimizer, num_epochs=25):\n",
    "\n",
    "    best_model_wts = copy.deepcopy(model.state_dict())\n",
    "    best_acc = 0.0\n",
    "\n",
    "    for epoch in range(num_epochs):\n",
    "\n",
    "        print(\"Epoch {}/{}\".format(epoch + 1, num_epochs))\n",
    "        print(\"-\" * 10)\n",
    "\n",
    "        train_acc, train_loss = train_epoch(\n",
    "            model, train_dataset, criterion, optimizer, BATCH_SIZE\n",
    "        )\n",
    "        print(\"train_acc: {:.4f}, train_loss: {:.4f}\".format(train_acc, train_loss))\n",
    "\n",
    "        dev_acc, dev_loss = eval_epoch(model, dev_dataset, criterion, BATCH_SIZE)\n",
    "        print(\"dev_acc: {:.4f}, dev_loss: {:.4f}\".format(dev_acc, dev_loss))\n",
    "\n",
    "        if dev_acc > best_acc:\n",
    "            best_acc = dev_acc\n",
    "            best_model_wts = copy.deepcopy(model.state_dict())\n",
    "\n",
    "    model.load_state_dict(best_model_wts)\n",
    "    return model"
   ]
  },
  {
   "cell_type": "code",
   "execution_count": null,
   "metadata": {
    "pycharm": {
     "is_executing": true
    }
   },
   "outputs": [],
   "source": [
    "model = train(model, train_dataset, dev_dataset, criterion, optimizer, 5)"
   ]
  },
  {
   "cell_type": "code",
   "execution_count": null,
   "metadata": {
    "pycharm": {
     "is_executing": true
    }
   },
   "outputs": [],
   "source": []
  },
  {
   "cell_type": "code",
   "execution_count": null,
   "metadata": {
    "pycharm": {
     "is_executing": true
    }
   },
   "outputs": [],
   "source": []
  }
 ],
 "metadata": {
  "kernelspec": {
   "display_name": "Python 3",
   "language": "python",
   "name": "python3"
  },
  "language_info": {
   "codemirror_mode": {
    "name": "ipython",
    "version": 3
   },
   "file_extension": ".py",
   "mimetype": "text/x-python",
   "name": "python",
   "nbconvert_exporter": "python",
   "pygments_lexer": "ipython3",
   "version": "3.7.6"
  },
  "pycharm": {
   "stem_cell": {
    "cell_type": "raw",
    "source": [],
    "metadata": {
     "collapsed": false
    }
   }
  }
 },
 "nbformat": 4,
 "nbformat_minor": 4
}